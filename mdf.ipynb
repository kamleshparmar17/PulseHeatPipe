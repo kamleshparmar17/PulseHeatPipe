{
 "cells": [
  {
   "cell_type": "code",
   "execution_count": null,
   "metadata": {},
   "outputs": [],
   "source": [
    "# importing relavent packages\n",
    "import numpy as np\n",
    "import pandas as pd\n",
    "from os import listdir\n",
    "## function for data loading\n",
    "def DataETL(datapath):\n",
    "    \"\"\"\n",
    "    DataETL loads experimental data from all experimental data files (xlsx).\n",
    "    Filters data and keeps only important columns.\n",
    "    Combine selected data and save it to csv file.\n",
    "\n",
    "    useage: DataETL('datapath')\n",
    "    \"\"\"\n",
    "    data_filenames_list = listdir(datapath)\n",
    "    df_frames = []\n",
    "    for i in range(0, len(data_filenames_list)) :\n",
    "        df_raw = pd.read_excel(datapath + data_filenames_list[i], engine='openpyxl')\n",
    "        selected_columns = ['Time (Min)', 'Tc - AVG 1&2 (oC)', 'Te - AVG 1,2,3 (oC)', 'Pressure (mm of Hg).1', 'Te - Tc (oC)', 'Q (W)',\n",
    "            'Resistance (oC/W)']\n",
    "        df_selected_columns = df_raw[selected_columns]\n",
    "        df_frames.append(df_selected_columns)\n",
    "        df = pd.concat(df_frames, axis=0, ignore_index=True)\n",
    "        df_out = df.to_csv(datapath + \"combined_data.csv\")\n",
    "    return df\n"
   ]
  }
 ],
 "metadata": {
  "kernelspec": {
   "display_name": "venv",
   "language": "python",
   "name": "python3"
  },
  "language_info": {
   "name": "python",
   "version": "3.9.6"
  },
  "orig_nbformat": 4
 },
 "nbformat": 4,
 "nbformat_minor": 2
}
