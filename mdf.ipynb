{
 "cells": [
  {
   "cell_type": "code",
   "execution_count": 1,
   "metadata": {},
   "outputs": [],
   "source": [
    "# importing relavent packages\n",
    "import numpy as np\n",
    "import pandas as pd\n",
    "from os import listdir\n",
    "import os\n",
    "import glob\n",
    "## function for data loading\n",
    "def DataETL(datapath):\n",
    "    \"\"\"\n",
    "    DataETL loads experimental data from all experimental data files (xlsx).\n",
    "    Filters data and keeps only important columns.\n",
    "    Combine selected data and save it to csv file.\n",
    "\n",
    "    useage: DataETL('datapath')\n",
    "    \"\"\"\n",
    "    data_filenames_list = glob.glob((datapath + 'php_*.csv'))\n",
    "    df_frames = []\n",
    "    for i in range(0, len(data_filenames_list)) :\n",
    "        df_raw = pd.read_csv((data_filenames_list[i]), sep=',')\n",
    "        selected_columns = ['Time (Min)', 'Tc - AVG 1&2 (oC)', 'Te - AVG 1,2,3 (oC)', 'Pressure (mm of Hg).1', 'Te - Tc (oC)', 'Q (W)',\n",
    "            'Resistance (oC/W)']\n",
    "        df_selected_columns = df_raw[selected_columns]\n",
    "        df_frames.append(df_selected_columns)\n",
    "        df = pd.concat(df_frames, axis=0, ignore_index=True)\n",
    "        df_out = df.to_csv(datapath + \"combined_data.csv\")\n",
    "    return df\n"
   ]
  },
  {
   "cell_type": "code",
   "execution_count": 2,
   "metadata": {},
   "outputs": [],
   "source": [
    "# data sorting and selecting\n",
    "\n",
    "def DataChop(data, Tmin=0, Tmax=100):\n",
    "    \"\"\" \n",
    "    DataChop function used to chop the data for the selected temperature value from the Te_avg column.\n",
    "\n",
    "    useage: DataChop(df, Tmin, Tmax)\n",
    "    here, Tmin/Tmax is a suitable value (int) from the data.\n",
    "    \"\"\"\n",
    "    assert 0 < Tmin < Tmax, f\"Enter correct value of Tmin\"\n",
    "    assert Tmin < Tmax < 100, f\"Enter correct value of Tmax\"\n",
    "\n",
    "    data_T = data[data['Te - AVG 1,2,3 (oC)'] <= Tmax]\n",
    "    data_T = data_T[data_T['Te - AVG 1,2,3 (oC)'] >= Tmin]\n",
    "    return data_T"
   ]
  },
  {
   "cell_type": "code",
   "execution_count": 3,
   "metadata": {},
   "outputs": [],
   "source": [
    "# data mixing and re-arranging\n",
    "\n",
    "def DataArrange(data):\n",
    "    df_arng = data.sort_values(by=['Te - AVG 1,2,3 (oC)']).groupby(['Te - AVG 1,2,3 (oC)']).mean()\n",
    "    return df_arng"
   ]
  }
 ],
 "metadata": {
  "kernelspec": {
   "display_name": "venv",
   "language": "python",
   "name": "python3"
  },
  "language_info": {
   "codemirror_mode": {
    "name": "ipython",
    "version": 3
   },
   "file_extension": ".py",
   "mimetype": "text/x-python",
   "name": "python",
   "nbconvert_exporter": "python",
   "pygments_lexer": "ipython3",
   "version": "3.9.6"
  },
  "orig_nbformat": 4
 },
 "nbformat": 4,
 "nbformat_minor": 2
}
