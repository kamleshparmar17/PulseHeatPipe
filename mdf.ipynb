{
 "cells": [
  {
   "cell_type": "code",
   "execution_count": 1,
   "metadata": {},
   "outputs": [],
   "source": [
    "# importing relavent packages\n",
    "import numpy as np\n",
    "import pandas as pd\n",
    "from os import listdir\n",
    "import os\n",
    "import glob\n",
    "## function for data loading\n",
    "def DataETL(datapath):\n",
    "    \"\"\"\n",
    "    DataETL loads experimental data from all experimental data files (xlsx).\n",
    "    Filters data and keeps only important columns.\n",
    "    Combine selected data and save it to csv file.\n",
    "\n",
    "    useage: DataETL('datapath')\n",
    "    \"\"\"\n",
    "    data_filenames_list = glob.glob((datapath + 'php_*.xlsx'))\n",
    "    df_frames = []\n",
    "    for i in range(0, len(data_filenames_list)) :\n",
    "        df_raw = pd.read_excel((data_filenames_list[i]))\n",
    "        selected_columns = ['Time (Min)', 'Tc - AVG (oC)', 'Te - AVG (oC)', 'Pressure (mm of Hg)', 'Te - Tc (oC)', 'Q (W)',\n",
    "            'Resistance (oC/W)']\n",
    "        df_selected_columns = df_raw[selected_columns]\n",
    "        df_frames.append(df_selected_columns)\n",
    "        df = pd.concat(df_frames, axis=0, ignore_index=True)\n",
    "        df_out = df.to_csv(datapath + \"combined_data.csv\")\n",
    "    return df\n"
   ]
  },
  {
   "cell_type": "code",
   "execution_count": 2,
   "metadata": {},
   "outputs": [],
   "source": [
    "# data sorting and selecting\n",
    "\n",
    "def DataChop(data, Tmin=0, Tmax=100):\n",
    "    \"\"\" \n",
    "    DataChop function used to chop the data for the selected temperature value from the Te_avg column.\n",
    "\n",
    "    useage: DataChop(df, Tmin, Tmax)\n",
    "    here, Tmin/Tmax is a suitable value (int) from the data.\n",
    "    \"\"\"\n",
    "    assert 0 < Tmin < Tmax, f\"Enter correct value of Tmin\"\n",
    "    assert Tmin < Tmax < 100, f\"Enter correct value of Tmax\"\n",
    "\n",
    "    data_T = data[data['Te - AVG 1,2,3 (oC)'] <= Tmax]\n",
    "    data_T = data_T[data_T['Te - AVG 1,2,3 (oC)'] >= Tmin]\n",
    "    return data_T"
   ]
  },
  {
   "cell_type": "code",
   "execution_count": 1,
   "metadata": {},
   "outputs": [],
   "source": [
    "# data mixing and re-arranging\n",
    "\n",
    "def DataArrange(data, path):\n",
    "    \"\"\"\n",
    "    DataArrange sorts and arrange value by group, calculates mean and standard deviation of the grouped data.\n",
    "    Calculated result will be stored at the location of data file.\n",
    "\n",
    "    DataArrange(data, path)\n",
    "    \"\"\"\n",
    "    df_mean = data.sort_values(by=['Te - AVG (oC)']).groupby(['Te - AVG (oC)'], as_index=False).mean()\n",
    "    df_mean_out = df_mean.to_csv(path + 'combined_mean.csv')\n",
    "    df_std = data.sort_values(by=['Te - AVG (oC)']).groupby(['Te - AVG (oC)'], as_index=False).std().dropna()\n",
    "    df_std_out = df_std.to_csv(path + 'combined_std.csv')\n",
    "    return df_mean, df_std"
   ]
  },
  {
   "cell_type": "code",
   "execution_count": null,
   "metadata": {},
   "outputs": [],
   "source": [
    "# claculation of avg values of Tc, Te, P, dT, TR\n",
    "\n",
    "def DataPropAvg(df_mean, df_std):\n",
    "    # avg values \n",
    "    Tc_avg = df_mean['Tc - AVG (oC)'].mean()\n",
    "    P_avg = df_mean['Pressure (mm of Hg)'].mean()\n",
    "    dT_avg = df_mean['Te - Tc (oC)'].mean()\n",
    "    TR_avg = df_mean['Resistance (oC/W)'].mean()\n",
    "    # std values\n",
    "    Tc_std = df_std['Tc - AVG (oC)'].mean()\n",
    "    P_std = df_std['Pressure (mm of Hg)'].mean()\n",
    "    dT_std = df_std['Te - Tc (oC)'].mean()\n",
    "    TR_std = df_std['Resistance (oC/W)'].mean()\n",
    "    \n",
    "    msg = (f\"Tc  average:     {round(Tc_avg,4)} +- {round(Tc_std,4)} [C]\\n\"\n",
    "    f\"P   average:     {round(P_avg,4)} +- {round(P_std,4)} [mmHg]\\n\"\n",
    "    f\"dT  average:     {round(dT_avg,4)} +- {round(dT_std,4)} [C]\\n\"\n",
    "    f\"TR  average:     {round(TR_avg,4)} +- {round(TR_std,4)} [C/W]\\n\");\n",
    "    #msg_out = msg.format(Tc_avg, Tc_std, Te_avg, Te_std, P_avg, P_std, dT_avg, dT_std, TR_avg, TR_std)\n",
    "    return print(msg)"
   ]
  }
 ],
 "metadata": {
  "kernelspec": {
   "display_name": "venv",
   "language": "python",
   "name": "python3"
  },
  "language_info": {
   "codemirror_mode": {
    "name": "ipython",
    "version": 3
   },
   "file_extension": ".py",
   "mimetype": "text/x-python",
   "name": "python",
   "nbconvert_exporter": "python",
   "pygments_lexer": "ipython3",
   "version": "3.9.6"
  },
  "orig_nbformat": 4
 },
 "nbformat": 4,
 "nbformat_minor": 2
}
