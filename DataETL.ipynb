{
 "cells": [
  {
   "cell_type": "code",
   "execution_count": 1,
   "metadata": {},
   "outputs": [],
   "source": [
    "# function for data loading\n",
    "\n",
    "def DataETL(datapath):\n",
    "    \"\"\"\n",
    "    DataETL loads experimental data from all experimental data files (xlsx).\n",
    "    Filters data and keeps only important columns.\n",
    "    Combine selected data and save it to csv file.\n",
    "\n",
    "    useage: DataETL('datapath')\n",
    "    \"\"\"\n",
    "    data_filenames_list = os.listdir(datapath)\n",
    "    df_frames = []\n",
    "    for i in range(0, len(data_filenames_list)) :\n",
    "        df_raw = pd.read_excel(datapath + data_filenames_list[0])\n",
    "        selected_columns = ['Time (Min)', 'Tc - AVG 1&2 (oC)', 'Te - AVG 1,2,3 (oC)', 'Pressure (mm of Hg).1', 'Te - Tc (oC)', 'Q (W)',\n",
    "            'Resistance (oC/W)']\n",
    "        df_selected_columns = df_raw[selected_columns]\n",
    "        df_frames.append(df_selected_columns)\n",
    "        df = pd.concat(df_frames, axis=0, ignore_index=True)\n",
    "        df_out = df.to_csv(datapath + \"combined_data.csv\")\n",
    "    return df\n"
   ]
  },
  {
   "cell_type": "code",
   "execution_count": null,
   "metadata": {},
   "outputs": [],
   "source": []
  }
 ],
 "metadata": {
  "kernelspec": {
   "display_name": "venv",
   "language": "python",
   "name": "python3"
  },
  "language_info": {
   "codemirror_mode": {
    "name": "ipython",
    "version": 3
   },
   "file_extension": ".py",
   "mimetype": "text/x-python",
   "name": "python",
   "nbconvert_exporter": "python",
   "pygments_lexer": "ipython3",
   "version": "3.9.6"
  },
  "orig_nbformat": 4
 },
 "nbformat": 4,
 "nbformat_minor": 2
}
